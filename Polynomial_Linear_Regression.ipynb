{
  "nbformat": 4,
  "nbformat_minor": 0,
  "metadata": {
    "colab": {
      "provenance": [],
      "authorship_tag": "ABX9TyN14AeHVfI6NuVepehVvRY1",
      "include_colab_link": true
    },
    "kernelspec": {
      "name": "python3",
      "display_name": "Python 3"
    },
    "language_info": {
      "name": "python"
    }
  },
  "cells": [
    {
      "cell_type": "markdown",
      "metadata": {
        "id": "view-in-github",
        "colab_type": "text"
      },
      "source": [
        "<a href=\"https://colab.research.google.com/github/Seeratfaatima/Linear-Regression/blob/main/Polynomial_Linear_Regression.ipynb\" target=\"_parent\"><img src=\"https://colab.research.google.com/assets/colab-badge.svg\" alt=\"Open In Colab\"/></a>"
      ]
    },
    {
      "source": [
        "# Task\n",
        "Implement polynomial regression on this dataset with  examples. Include their training and testing accuracy. Also show Truth of Bluff(polynomial regression)\n",
        "\n",
        "Here is all the data you need:\n",
        "\"Position_Salaries.csv\""
      ],
      "cell_type": "markdown",
      "metadata": {
        "id": "mOiZwfI3FwcX"
      }
    },
    {
      "source": [
        "## Data loading\n",
        "\n",
        "### Subtask:\n",
        "Load the dataset \"Position_Salaries.csv\"\n"
      ],
      "cell_type": "markdown",
      "metadata": {
        "id": "2aYe1mjuFw9K"
      }
    },
    {
      "source": [
        "**Reasoning**:\n",
        "Load the dataset \"Position_Salaries.csv\" into a pandas DataFrame and display its first few rows and shape.\n",
        "\n"
      ],
      "cell_type": "markdown",
      "metadata": {
        "id": "2KnQz2KOFxbs"
      }
    },
    {
      "source": [
        "import pandas as pd\n",
        "\n",
        "try:\n",
        "    df = pd.read_csv('Position_Salaries.csv')\n",
        "    display(df.head())\n",
        "    print(df.shape)\n",
        "except FileNotFoundError:\n",
        "    print(\"Error: 'Position_Salaries.csv' not found. Please ensure the file is in the correct location or provide the full path.\")\n",
        "    df = None"
      ],
      "cell_type": "code",
      "metadata": {
        "colab": {
          "base_uri": "https://localhost:8080/",
          "height": 221
        },
        "id": "-aKhzCR0Fxrb",
        "outputId": "39b68790-bf79-4476-ef30-0adedba69046"
      },
      "execution_count": 1,
      "outputs": [
        {
          "output_type": "display_data",
          "data": {
            "text/plain": [
              "            Position  Level  Salary\n",
              "0   Business Analyst      1   45000\n",
              "1  Junior Consultant      2   50000\n",
              "2  Senior Consultant      3   60000\n",
              "3            Manager      4   80000\n",
              "4    Country Manager      5  110000"
            ],
            "text/html": [
              "\n",
              "  <div id=\"df-b8426dc7-66ce-4b31-b238-aeda413663b6\" class=\"colab-df-container\">\n",
              "    <div>\n",
              "<style scoped>\n",
              "    .dataframe tbody tr th:only-of-type {\n",
              "        vertical-align: middle;\n",
              "    }\n",
              "\n",
              "    .dataframe tbody tr th {\n",
              "        vertical-align: top;\n",
              "    }\n",
              "\n",
              "    .dataframe thead th {\n",
              "        text-align: right;\n",
              "    }\n",
              "</style>\n",
              "<table border=\"1\" class=\"dataframe\">\n",
              "  <thead>\n",
              "    <tr style=\"text-align: right;\">\n",
              "      <th></th>\n",
              "      <th>Position</th>\n",
              "      <th>Level</th>\n",
              "      <th>Salary</th>\n",
              "    </tr>\n",
              "  </thead>\n",
              "  <tbody>\n",
              "    <tr>\n",
              "      <th>0</th>\n",
              "      <td>Business Analyst</td>\n",
              "      <td>1</td>\n",
              "      <td>45000</td>\n",
              "    </tr>\n",
              "    <tr>\n",
              "      <th>1</th>\n",
              "      <td>Junior Consultant</td>\n",
              "      <td>2</td>\n",
              "      <td>50000</td>\n",
              "    </tr>\n",
              "    <tr>\n",
              "      <th>2</th>\n",
              "      <td>Senior Consultant</td>\n",
              "      <td>3</td>\n",
              "      <td>60000</td>\n",
              "    </tr>\n",
              "    <tr>\n",
              "      <th>3</th>\n",
              "      <td>Manager</td>\n",
              "      <td>4</td>\n",
              "      <td>80000</td>\n",
              "    </tr>\n",
              "    <tr>\n",
              "      <th>4</th>\n",
              "      <td>Country Manager</td>\n",
              "      <td>5</td>\n",
              "      <td>110000</td>\n",
              "    </tr>\n",
              "  </tbody>\n",
              "</table>\n",
              "</div>\n",
              "    <div class=\"colab-df-buttons\">\n",
              "\n",
              "  <div class=\"colab-df-container\">\n",
              "    <button class=\"colab-df-convert\" onclick=\"convertToInteractive('df-b8426dc7-66ce-4b31-b238-aeda413663b6')\"\n",
              "            title=\"Convert this dataframe to an interactive table.\"\n",
              "            style=\"display:none;\">\n",
              "\n",
              "  <svg xmlns=\"http://www.w3.org/2000/svg\" height=\"24px\" viewBox=\"0 -960 960 960\">\n",
              "    <path d=\"M120-120v-720h720v720H120Zm60-500h600v-160H180v160Zm220 220h160v-160H400v160Zm0 220h160v-160H400v160ZM180-400h160v-160H180v160Zm440 0h160v-160H620v160ZM180-180h160v-160H180v160Zm440 0h160v-160H620v160Z\"/>\n",
              "  </svg>\n",
              "    </button>\n",
              "\n",
              "  <style>\n",
              "    .colab-df-container {\n",
              "      display:flex;\n",
              "      gap: 12px;\n",
              "    }\n",
              "\n",
              "    .colab-df-convert {\n",
              "      background-color: #E8F0FE;\n",
              "      border: none;\n",
              "      border-radius: 50%;\n",
              "      cursor: pointer;\n",
              "      display: none;\n",
              "      fill: #1967D2;\n",
              "      height: 32px;\n",
              "      padding: 0 0 0 0;\n",
              "      width: 32px;\n",
              "    }\n",
              "\n",
              "    .colab-df-convert:hover {\n",
              "      background-color: #E2EBFA;\n",
              "      box-shadow: 0px 1px 2px rgba(60, 64, 67, 0.3), 0px 1px 3px 1px rgba(60, 64, 67, 0.15);\n",
              "      fill: #174EA6;\n",
              "    }\n",
              "\n",
              "    .colab-df-buttons div {\n",
              "      margin-bottom: 4px;\n",
              "    }\n",
              "\n",
              "    [theme=dark] .colab-df-convert {\n",
              "      background-color: #3B4455;\n",
              "      fill: #D2E3FC;\n",
              "    }\n",
              "\n",
              "    [theme=dark] .colab-df-convert:hover {\n",
              "      background-color: #434B5C;\n",
              "      box-shadow: 0px 1px 3px 1px rgba(0, 0, 0, 0.15);\n",
              "      filter: drop-shadow(0px 1px 2px rgba(0, 0, 0, 0.3));\n",
              "      fill: #FFFFFF;\n",
              "    }\n",
              "  </style>\n",
              "\n",
              "    <script>\n",
              "      const buttonEl =\n",
              "        document.querySelector('#df-b8426dc7-66ce-4b31-b238-aeda413663b6 button.colab-df-convert');\n",
              "      buttonEl.style.display =\n",
              "        google.colab.kernel.accessAllowed ? 'block' : 'none';\n",
              "\n",
              "      async function convertToInteractive(key) {\n",
              "        const element = document.querySelector('#df-b8426dc7-66ce-4b31-b238-aeda413663b6');\n",
              "        const dataTable =\n",
              "          await google.colab.kernel.invokeFunction('convertToInteractive',\n",
              "                                                    [key], {});\n",
              "        if (!dataTable) return;\n",
              "\n",
              "        const docLinkHtml = 'Like what you see? Visit the ' +\n",
              "          '<a target=\"_blank\" href=https://colab.research.google.com/notebooks/data_table.ipynb>data table notebook</a>'\n",
              "          + ' to learn more about interactive tables.';\n",
              "        element.innerHTML = '';\n",
              "        dataTable['output_type'] = 'display_data';\n",
              "        await google.colab.output.renderOutput(dataTable, element);\n",
              "        const docLink = document.createElement('div');\n",
              "        docLink.innerHTML = docLinkHtml;\n",
              "        element.appendChild(docLink);\n",
              "      }\n",
              "    </script>\n",
              "  </div>\n",
              "\n",
              "\n",
              "    <div id=\"df-92e3480d-96cf-481a-b9c4-659f1174a660\">\n",
              "      <button class=\"colab-df-quickchart\" onclick=\"quickchart('df-92e3480d-96cf-481a-b9c4-659f1174a660')\"\n",
              "                title=\"Suggest charts\"\n",
              "                style=\"display:none;\">\n",
              "\n",
              "<svg xmlns=\"http://www.w3.org/2000/svg\" height=\"24px\"viewBox=\"0 0 24 24\"\n",
              "     width=\"24px\">\n",
              "    <g>\n",
              "        <path d=\"M19 3H5c-1.1 0-2 .9-2 2v14c0 1.1.9 2 2 2h14c1.1 0 2-.9 2-2V5c0-1.1-.9-2-2-2zM9 17H7v-7h2v7zm4 0h-2V7h2v10zm4 0h-2v-4h2v4z\"/>\n",
              "    </g>\n",
              "</svg>\n",
              "      </button>\n",
              "\n",
              "<style>\n",
              "  .colab-df-quickchart {\n",
              "      --bg-color: #E8F0FE;\n",
              "      --fill-color: #1967D2;\n",
              "      --hover-bg-color: #E2EBFA;\n",
              "      --hover-fill-color: #174EA6;\n",
              "      --disabled-fill-color: #AAA;\n",
              "      --disabled-bg-color: #DDD;\n",
              "  }\n",
              "\n",
              "  [theme=dark] .colab-df-quickchart {\n",
              "      --bg-color: #3B4455;\n",
              "      --fill-color: #D2E3FC;\n",
              "      --hover-bg-color: #434B5C;\n",
              "      --hover-fill-color: #FFFFFF;\n",
              "      --disabled-bg-color: #3B4455;\n",
              "      --disabled-fill-color: #666;\n",
              "  }\n",
              "\n",
              "  .colab-df-quickchart {\n",
              "    background-color: var(--bg-color);\n",
              "    border: none;\n",
              "    border-radius: 50%;\n",
              "    cursor: pointer;\n",
              "    display: none;\n",
              "    fill: var(--fill-color);\n",
              "    height: 32px;\n",
              "    padding: 0;\n",
              "    width: 32px;\n",
              "  }\n",
              "\n",
              "  .colab-df-quickchart:hover {\n",
              "    background-color: var(--hover-bg-color);\n",
              "    box-shadow: 0 1px 2px rgba(60, 64, 67, 0.3), 0 1px 3px 1px rgba(60, 64, 67, 0.15);\n",
              "    fill: var(--button-hover-fill-color);\n",
              "  }\n",
              "\n",
              "  .colab-df-quickchart-complete:disabled,\n",
              "  .colab-df-quickchart-complete:disabled:hover {\n",
              "    background-color: var(--disabled-bg-color);\n",
              "    fill: var(--disabled-fill-color);\n",
              "    box-shadow: none;\n",
              "  }\n",
              "\n",
              "  .colab-df-spinner {\n",
              "    border: 2px solid var(--fill-color);\n",
              "    border-color: transparent;\n",
              "    border-bottom-color: var(--fill-color);\n",
              "    animation:\n",
              "      spin 1s steps(1) infinite;\n",
              "  }\n",
              "\n",
              "  @keyframes spin {\n",
              "    0% {\n",
              "      border-color: transparent;\n",
              "      border-bottom-color: var(--fill-color);\n",
              "      border-left-color: var(--fill-color);\n",
              "    }\n",
              "    20% {\n",
              "      border-color: transparent;\n",
              "      border-left-color: var(--fill-color);\n",
              "      border-top-color: var(--fill-color);\n",
              "    }\n",
              "    30% {\n",
              "      border-color: transparent;\n",
              "      border-left-color: var(--fill-color);\n",
              "      border-top-color: var(--fill-color);\n",
              "      border-right-color: var(--fill-color);\n",
              "    }\n",
              "    40% {\n",
              "      border-color: transparent;\n",
              "      border-right-color: var(--fill-color);\n",
              "      border-top-color: var(--fill-color);\n",
              "    }\n",
              "    60% {\n",
              "      border-color: transparent;\n",
              "      border-right-color: var(--fill-color);\n",
              "    }\n",
              "    80% {\n",
              "      border-color: transparent;\n",
              "      border-right-color: var(--fill-color);\n",
              "      border-bottom-color: var(--fill-color);\n",
              "    }\n",
              "    90% {\n",
              "      border-color: transparent;\n",
              "      border-bottom-color: var(--fill-color);\n",
              "    }\n",
              "  }\n",
              "</style>\n",
              "\n",
              "      <script>\n",
              "        async function quickchart(key) {\n",
              "          const quickchartButtonEl =\n",
              "            document.querySelector('#' + key + ' button');\n",
              "          quickchartButtonEl.disabled = true;  // To prevent multiple clicks.\n",
              "          quickchartButtonEl.classList.add('colab-df-spinner');\n",
              "          try {\n",
              "            const charts = await google.colab.kernel.invokeFunction(\n",
              "                'suggestCharts', [key], {});\n",
              "          } catch (error) {\n",
              "            console.error('Error during call to suggestCharts:', error);\n",
              "          }\n",
              "          quickchartButtonEl.classList.remove('colab-df-spinner');\n",
              "          quickchartButtonEl.classList.add('colab-df-quickchart-complete');\n",
              "        }\n",
              "        (() => {\n",
              "          let quickchartButtonEl =\n",
              "            document.querySelector('#df-92e3480d-96cf-481a-b9c4-659f1174a660 button');\n",
              "          quickchartButtonEl.style.display =\n",
              "            google.colab.kernel.accessAllowed ? 'block' : 'none';\n",
              "        })();\n",
              "      </script>\n",
              "    </div>\n",
              "\n",
              "    </div>\n",
              "  </div>\n"
            ],
            "application/vnd.google.colaboratory.intrinsic+json": {
              "type": "dataframe",
              "summary": "{\n  \"name\": \"    df = None\",\n  \"rows\": 5,\n  \"fields\": [\n    {\n      \"column\": \"Position\",\n      \"properties\": {\n        \"dtype\": \"string\",\n        \"num_unique_values\": 5,\n        \"samples\": [\n          \"Junior Consultant\",\n          \"Country Manager\",\n          \"Senior Consultant\"\n        ],\n        \"semantic_type\": \"\",\n        \"description\": \"\"\n      }\n    },\n    {\n      \"column\": \"Level\",\n      \"properties\": {\n        \"dtype\": \"number\",\n        \"std\": 1,\n        \"min\": 1,\n        \"max\": 5,\n        \"num_unique_values\": 5,\n        \"samples\": [\n          2,\n          5,\n          3\n        ],\n        \"semantic_type\": \"\",\n        \"description\": \"\"\n      }\n    },\n    {\n      \"column\": \"Salary\",\n      \"properties\": {\n        \"dtype\": \"number\",\n        \"std\": 26551,\n        \"min\": 45000,\n        \"max\": 110000,\n        \"num_unique_values\": 5,\n        \"samples\": [\n          50000,\n          110000,\n          60000\n        ],\n        \"semantic_type\": \"\",\n        \"description\": \"\"\n      }\n    }\n  ]\n}"
            }
          },
          "metadata": {}
        },
        {
          "output_type": "stream",
          "name": "stdout",
          "text": [
            "(10, 3)\n"
          ]
        }
      ]
    },
    {
      "source": [
        "## Data exploration\n",
        "\n",
        "### Subtask:\n",
        "Explore the loaded dataset to understand its characteristics.\n"
      ],
      "cell_type": "markdown",
      "metadata": {
        "id": "oA7lqSsLF1ak"
      }
    },
    {
      "source": [
        "**Reasoning**:\n",
        "Explore the dataset by checking data types, descriptive statistics, visualizing the relationship between 'Level' and 'Salary', checking for missing values, and identifying the dataset's shape.\n",
        "\n"
      ],
      "cell_type": "markdown",
      "metadata": {
        "id": "A9h_q6iUF14f"
      }
    },
    {
      "source": [
        "import matplotlib.pyplot as plt\n",
        "\n",
        "# Check data types\n",
        "print(df.info())\n",
        "\n",
        "# Summarize numerical features\n",
        "print(df.describe())\n",
        "\n",
        "# Visualize the relationship between 'Level' and 'Salary'\n",
        "plt.figure(figsize=(8, 6))\n",
        "plt.scatter(df['Level'], df['Salary'], color='blue')\n",
        "plt.title('Level vs. Salary')\n",
        "plt.xlabel('Level')\n",
        "plt.ylabel('Salary')\n",
        "plt.grid(True)\n",
        "plt.show()\n",
        "\n",
        "# Check for missing values\n",
        "print(df.isnull().sum())\n",
        "\n",
        "# Identify the shape of the dataset\n",
        "print(\"Shape of the dataset:\", df.shape)"
      ],
      "cell_type": "code",
      "metadata": {
        "colab": {
          "base_uri": "https://localhost:8080/",
          "height": 974
        },
        "id": "7O6_jgWoF2IN",
        "outputId": "245769f7-24a1-445b-c634-be3e178b6f1e"
      },
      "execution_count": 2,
      "outputs": [
        {
          "output_type": "stream",
          "name": "stdout",
          "text": [
            "<class 'pandas.core.frame.DataFrame'>\n",
            "RangeIndex: 10 entries, 0 to 9\n",
            "Data columns (total 3 columns):\n",
            " #   Column    Non-Null Count  Dtype \n",
            "---  ------    --------------  ----- \n",
            " 0   Position  10 non-null     object\n",
            " 1   Level     10 non-null     int64 \n",
            " 2   Salary    10 non-null     int64 \n",
            "dtypes: int64(2), object(1)\n",
            "memory usage: 372.0+ bytes\n",
            "None\n",
            "          Level          Salary\n",
            "count  10.00000       10.000000\n",
            "mean    5.50000   249500.000000\n",
            "std     3.02765   299373.883668\n",
            "min     1.00000    45000.000000\n",
            "25%     3.25000    65000.000000\n",
            "50%     5.50000   130000.000000\n",
            "75%     7.75000   275000.000000\n",
            "max    10.00000  1000000.000000\n"
          ]
        },
        {
          "output_type": "display_data",
          "data": {
            "text/plain": [
              "<Figure size 800x600 with 1 Axes>"
            ],
            "image/png": "[encoded data removed]"
          },
          "metadata": {}
        },
        {
          "output_type": "stream",
          "name": "stdout",
          "text": [
            "Position    0\n",
            "Level       0\n",
            "Salary      0\n",
            "dtype: int64\n",
            "Shape of the dataset: (10, 3)\n"
          ]
        }
      ]
    },
    {
      "source": [
        "## Data preparation\n",
        "\n",
        "### Subtask:\n",
        "Prepare the data for polynomial regression.\n"
      ],
      "cell_type": "markdown",
      "metadata": {
        "id": "4EjExswJF6NS"
      }
    },
    {
      "source": [
        "**Reasoning**:\n",
        "Separate the features and target variable, then scale the feature using standardization.\n",
        "\n"
      ],
      "cell_type": "markdown",
      "metadata": {
        "id": "UHGrr0feF6rs"
      }
    },
    {
      "source": [
        "import numpy as np\n",
        "from sklearn.preprocessing import StandardScaler\n",
        "\n",
        "# Separate features (X) and target variable (y)\n",
        "X = df.iloc[:, 1:2].values  # Level\n",
        "y = df.iloc[:, 2].values  # Salary\n",
        "\n",
        "# Feature scaling (Standardization)\n",
        "sc_X = StandardScaler()\n",
        "X_scaled = sc_X.fit_transform(X)"
      ],
      "cell_type": "code",
      "metadata": {
        "id": "UOrighoLF67Z"
      },
      "execution_count": 3,
      "outputs": []
    },
    {
      "source": [
        "## Feature engineering\n",
        "\n",
        "### Subtask:\n",
        "Create polynomial features from the independent variable (Level).\n"
      ],
      "cell_type": "markdown",
      "metadata": {
        "id": "gEONNsQoF_VU"
      }
    },
    {
      "source": [
        "**Reasoning**:\n",
        "Create polynomial features from the independent variable (Level) using PolynomialFeatures.\n",
        "\n"
      ],
      "cell_type": "markdown",
      "metadata": {
        "id": "8n438C8-F_zs"
      }
    },
    {
      "source": [
        "from sklearn.preprocessing import PolynomialFeatures\n",
        "\n",
        "# Create polynomial features\n",
        "poly_reg = PolynomialFeatures(degree=2)  # Experiment with different degrees\n",
        "X_poly = poly_reg.fit_transform(X_scaled)\n",
        "\n",
        "# Print the shape of X_poly to verify the transformation\n",
        "print(X_poly.shape)"
      ],
      "cell_type": "code",
      "metadata": {
        "colab": {
          "base_uri": "https://localhost:8080/"
        },
        "id": "YKwF6TnIGADd",
        "outputId": "941ce5ea-8a76-45a9-da2e-80078ceecef8"
      },
      "execution_count": 4,
      "outputs": [
        {
          "output_type": "stream",
          "name": "stdout",
          "text": [
            "(10, 3)\n"
          ]
        }
      ]
    },
    {
      "source": [
        "## Data splitting\n",
        "\n",
        "### Subtask:\n",
        "Split the data into training and testing sets.\n"
      ],
      "cell_type": "markdown",
      "metadata": {
        "id": "fgAmXC1-GD6G"
      }
    },
    {
      "source": [
        "**Reasoning**:\n",
        "Split the data into training and testing sets using train_test_split and create a KFold object for later cross-validation.\n",
        "\n"
      ],
      "cell_type": "markdown",
      "metadata": {
        "id": "mu1c3yz_GEaP"
      }
    },
    {
      "source": [
        "from sklearn.model_selection import train_test_split, KFold\n",
        "\n",
        "# Split the data into training and testing sets\n",
        "X_train, X_test, y_train, y_test = train_test_split(X_poly, y, test_size=0.2, random_state=0)\n",
        "\n",
        "# Create a KFold object for cross-validation\n",
        "kf = KFold(n_splits=5, shuffle=True, random_state=0)"
      ],
      "cell_type": "code",
      "metadata": {
        "id": "kocSE3TrGEp-"
      },
      "execution_count": 5,
      "outputs": []
    },
    {
      "source": [
        "## Model training\n",
        "\n",
        "### Subtask:\n",
        "Train a linear regression model on the polynomial features.\n"
      ],
      "cell_type": "markdown",
      "metadata": {
        "id": "-zBQDp9AGIm5"
      }
    },
    {
      "source": [
        "**Reasoning**:\n",
        "Train a linear regression model on the polynomial features.\n",
        "\n"
      ],
      "cell_type": "markdown",
      "metadata": {
        "id": "rSRVeQf5GJEh"
      }
    },
    {
      "source": [
        "from sklearn.linear_model import LinearRegression\n",
        "\n",
        "# Train the linear regression model\n",
        "lin_reg_2 = LinearRegression()\n",
        "lin_reg_2.fit(X_train, y_train)\n",
        "\n",
        "# Make predictions\n",
        "y_pred = lin_reg_2.predict(X_test)"
      ],
      "cell_type": "code",
      "metadata": {
        "id": "JFPmWUNaGJUQ"
      },
      "execution_count": 6,
      "outputs": []
    },
    {
      "source": [
        "## Model evaluation\n",
        "\n",
        "### Subtask:\n",
        "Evaluate the model's performance.\n"
      ],
      "cell_type": "markdown",
      "metadata": {
        "id": "gwmbLr8_GMw8"
      }
    },
    {
      "source": [
        "**Reasoning**:\n",
        "Evaluate the model's performance using R-squared and Mean Squared Error.\n",
        "\n"
      ],
      "cell_type": "markdown",
      "metadata": {
        "id": "UUB-UgqNGNOi"
      }
    },
    {
      "source": [
        "from sklearn.metrics import r2_score, mean_squared_error\n",
        "\n",
        "# Evaluate the model\n",
        "train_r2 = r2_score(y_train, lin_reg_2.predict(X_train))\n",
        "test_r2 = r2_score(y_test, y_pred)\n",
        "train_mse = mean_squared_error(y_train, lin_reg_2.predict(X_train))\n",
        "test_mse = mean_squared_error(y_test, y_pred)\n",
        "\n",
        "print(f\"Training R-squared: {train_r2:.4f}\")\n",
        "print(f\"Testing R-squared: {test_r2:.4f}\")\n",
        "print(f\"Training MSE: {train_mse:.4f}\")\n",
        "print(f\"Testing MSE: {test_mse:.4f}\")"
      ],
      "cell_type": "code",
      "metadata": {
        "colab": {
          "base_uri": "https://localhost:8080/"
        },
        "id": "0fQzQ5g-GNeO",
        "outputId": "e49992dc-3a33-40fa-df80-3683c7615e5f"
      },
      "execution_count": 7,
      "outputs": [
        {
          "output_type": "stream",
          "name": "stdout",
          "text": [
            "Training R-squared: 0.9335\n",
            "Testing R-squared: 0.7055\n",
            "Training MSE: 5879726067.6059\n",
            "Testing MSE: 14254734714.3290\n"
          ]
        }
      ]
    },
    {
      "source": [
        "## Data visualization\n",
        "\n",
        "### Subtask:\n",
        "Visualize the polynomial regression results and the \"Truth or Bluff\" aspect.\n"
      ],
      "cell_type": "markdown",
      "metadata": {
        "id": "AHdo5fodGRG1"
      }
    },
    {
      "source": [
        "**Reasoning**:\n",
        "Visualize the polynomial regression results, including the actual data points, the predicted polynomial regression line, and higher-degree polynomial fits.  Add labels, titles, and a legend to make the plot clear and easy to interpret.\n",
        "\n"
      ],
      "cell_type": "markdown",
      "metadata": {
        "id": "RwxdEuZoGSFW"
      }
    },
    {
      "source": [
        "import matplotlib.pyplot as plt\n",
        "\n",
        "# Visualize the Polynomial Regression results\n",
        "plt.figure(figsize=(10, 6))\n",
        "plt.scatter(X, y, color='red', label='Actual Data')  # Plot actual data points\n",
        "\n",
        "# Plot the polynomial regression line\n",
        "plt.plot(X, lin_reg_2.predict(poly_reg.fit_transform(X_scaled)), color='blue', label='Degree 2')\n",
        "\n",
        "# Experiment with higher-degree polynomial fits (e.g., degree 3, 4)\n",
        "for degree in [3, 4, 5]:\n",
        "    poly_reg_higher = PolynomialFeatures(degree=degree)\n",
        "    X_poly_higher = poly_reg_higher.fit_transform(X_scaled)\n",
        "    lin_reg_higher = LinearRegression()\n",
        "    lin_reg_higher.fit(X_poly_higher, y)\n",
        "    plt.plot(X, lin_reg_higher.predict(X_poly_higher), label=f'Degree {degree}')\n",
        "\n",
        "plt.title('Polynomial Regression Results')\n",
        "plt.xlabel('Level')\n",
        "plt.ylabel('Salary')\n",
        "plt.legend()\n",
        "plt.grid(True)\n",
        "plt.show()"
      ],
      "cell_type": "code",
      "metadata": {
        "colab": {
          "base_uri": "https://localhost:8080/",
          "height": 451
        },
        "id": "1clNldzZGSVJ",
        "outputId": "c16d4a69-1f9c-4e72-e186-480234cb25ef"
      },
      "execution_count": 8,
      "outputs": [
        {
          "output_type": "display_data",
          "data": {
            "text/plain": [
              "<Figure size 1000x600 with 1 Axes>"
            ],
            "image/png": "[encoded data removed]"
          },
          "metadata": {}
        }
      ]
    },
    {
      "source": [
        "## Summary:\n",
        "\n",
        "### Q&A\n",
        "No questions were posed in the task.\n",
        "\n",
        "### Data Analysis Key Findings\n",
        "* A non-linear relationship between employee level and salary was observed, justifying the use of polynomial regression.\n",
        "* Polynomial features of degree 2, 3, 4, and 5 were engineered from the 'Level' feature.\n",
        "* A linear regression model trained on the polynomial features showed a training R-squared of 0.9335 and a testing R-squared of 0.7055, indicating potential overfitting.  The training MSE was 5879726067.6059 and the testing MSE was 14254734714.3290.\n",
        "* Visualizations of polynomial fits of different degrees (2, 3, 4, and 5) were generated to demonstrate the concept of overfitting.\n",
        "\n",
        "\n",
        "### Insights or Next Steps\n",
        "* The model exhibits overfitting; explore regularization techniques (e.g., Ridge or Lasso regression) or consider a simpler polynomial degree to improve generalization.\n",
        "* Further investigate feature engineering to potentially identify other relevant predictors or transformations that could improve the model's performance.\n"
      ],
      "cell_type": "markdown",
      "metadata": {
        "id": "aPTBI_aKGW1T"
      }
    }
  ]
}